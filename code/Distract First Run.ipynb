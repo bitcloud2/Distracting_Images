{
 "cells": [
  {
   "cell_type": "code",
   "execution_count": 1,
   "metadata": {
    "collapsed": false
   },
   "outputs": [
    {
     "name": "stderr",
     "output_type": "stream",
     "text": [
      "Using gpu device 0: GeForce GTX 770 (CNMeM is enabled with initial size: 45.0% of memory, cuDNN 5004)\n"
     ]
    }
   ],
   "source": [
    "# Neural Net\n",
    "import theano\n",
    "from lasagne import layers\n",
    "from lasagne.nonlinearities import  sigmoid, softmax, rectify, tanh, linear\n",
    "from lasagne.objectives import categorical_crossentropy, aggregate\n",
    "from lasagne.updates import nesterov_momentum\n",
    "from nolearn.lasagne import NeuralNet\n",
    "\n",
    "# Processing\n",
    "import os\n",
    "import cv2\n",
    "import glob\n",
    "import math\n",
    "import numpy as np\n",
    "import pandas as pd\n",
    "from pandas.io.parsers import read_csv\n",
    "from skimage.color import rgb2gray\n",
    "from sklearn.utils import shuffle\n",
    "from sklearn.preprocessing import LabelEncoder\n",
    "from sklearn.cross_validation import train_test_split\n",
    "from sklearn.preprocessing import StandardScaler \n",
    "from sklearn.metrics import f1_score\n",
    "import cPickle as pickle\n",
    "import tables\n",
    "import matplotlib.pyplot as plt\n",
    "%matplotlib inline"
   ]
  },
  {
   "cell_type": "markdown",
   "metadata": {},
   "source": [
    "# My Starter Code below"
   ]
  },
  {
   "cell_type": "code",
   "execution_count": 14,
   "metadata": {
    "collapsed": true
   },
   "outputs": [],
   "source": [
    "'''\n",
    "Loading data functions\n",
    "'''\n",
    "PIXELS = 96\n",
    "num_features = PIXELS * PIXELS"
   ]
  },
  {
   "cell_type": "code",
   "execution_count": 3,
   "metadata": {
    "collapsed": true
   },
   "outputs": [],
   "source": [
    "def load_train_cv(encoder):\n",
    "    X_train = []\n",
    "    y_train = []\n",
    "    print('Read train images')\n",
    "    # Load data from the 10 subfolders in data\n",
    "    for j in range(10):\n",
    "        print('Load folder c{}'.format(j))\n",
    "        path = os.path.join('..', 'data', 'train', 'c' + str(j), '*.jpg')\n",
    "        files = glob.iglob(path)\n",
    "        for fl in files:\n",
    "            img = cv2.imread(fl,0)\n",
    "            img = cv2.resize(img, (PIXELS, PIXELS))\n",
    "            \n",
    "            # For non-convoluted network\n",
    "            #img = np.hstack(img)\n",
    "            \n",
    "            # For convoluted network\n",
    "            img = np.reshape(img, (1, num_features))\n",
    "            \n",
    "            X_train.append(img)\n",
    "            y_train.append(j)\n",
    "\n",
    "    X_train = np.array(X_train)\n",
    "    y_train = np.array(y_train)\n",
    "    \n",
    "    y_train = encoder.fit_transform(y_train).astype('int32')\n",
    "\n",
    "    X_train, y_train = shuffle(X_train, y_train)\n",
    "\n",
    "    X_train, X_test, y_train, y_test = train_test_split(X_train, y_train, test_size=0.1)\n",
    "\n",
    "    X_train = X_train.astype('float32') / 255.\n",
    "    X_test = X_test.astype('float32') / 255.\n",
    "\n",
    "    return X_train, y_train, X_test, y_test, encoder"
   ]
  },
  {
   "cell_type": "code",
   "execution_count": 4,
   "metadata": {
    "collapsed": true
   },
   "outputs": [],
   "source": [
    "def load_test():\n",
    "    print('Read test images')\n",
    "    path = os.path.join('..', 'data', 'test', '*.jpg')\n",
    "    files = glob.glob(path)\n",
    "    X_test = []\n",
    "    X_test_id = []\n",
    "    total = 0\n",
    "    thr = math.floor(len(files)/10)\n",
    "    for fl in files:\n",
    "        flbase = os.path.basename(fl)\n",
    "        img = cv2.imread(fl,0)\n",
    "        img = cv2.resize(img, (PIXELS, PIXELS))\n",
    "        #img = img.transpose(2, 0, 1)\n",
    "        img = np.hstack(img)\n",
    "        \n",
    "        X_test.append(img)\n",
    "        X_test_id.append(flbase)\n",
    "        total += 1\n",
    "        if total%thr == 0:\n",
    "            print('Read {} images from {}'.format(total, len(files)))\n",
    "\n",
    "    X_test = np.array(X_test)\n",
    "    X_test_id = np.array(X_test_id)\n",
    "\n",
    "    X_test = X_test.astype('float32') / 255.\n",
    "\n",
    "    return X_test, X_test_id"
   ]
  },
  {
   "cell_type": "markdown",
   "metadata": {},
   "source": [
    "# Original Starter Code"
   ]
  },
  {
   "cell_type": "markdown",
   "metadata": {},
   "source": [
    "# Don't think I need this"
   ]
  },
  {
   "cell_type": "code",
   "execution_count": 15,
   "metadata": {
    "collapsed": true
   },
   "outputs": [],
   "source": [
    "'''\n",
    "Loading data functions\n",
    "'''\n",
    "PIXELS = 96\n",
    "imageSize = PIXELS * PIXELS\n",
    "num_features = imageSize \n",
    "\n",
    "def load_train_cv(encoder):\n",
    "    X_train = []\n",
    "    y_train = []\n",
    "    print('Read train images')\n",
    "    for j in range(10):\n",
    "        print('Load folder c{}'.format(j))\n",
    "        path = os.path.join('..', 'data', 'train', 'c' + str(j), '*.jpg')\n",
    "        files = glob.glob(path)\n",
    "        for fl in files:\n",
    "            img = cv2.imread(fl,0)\n",
    "            img = cv2.resize(img, (PIXELS, PIXELS))\n",
    "            #img = img.transpose(2, 0, 1)\n",
    "            img = np.reshape(img, (1, num_features))\n",
    "            X_train.append(img)\n",
    "            y_train.append(j)\n",
    "\n",
    "    X_train = np.array(X_train)\n",
    "    y_train = np.array(y_train)\n",
    "\n",
    "    y_train = encoder.fit_transform(y_train).astype('int32')\n",
    "\n",
    "    X_train, y_train = shuffle(X_train, y_train)\n",
    "\n",
    "    X_train, X_test, y_train, y_test = train_test_split(X_train, y_train, test_size=0.1)\n",
    "\n",
    "    X_train = X_train.reshape(X_train.shape[0], 1, PIXELS, PIXELS).astype('float32') / 255.\n",
    "    X_test = X_test.reshape(X_test.shape[0], 1, PIXELS, PIXELS).astype('float32') / 255.\n",
    "\n",
    "    return X_train, y_train, X_test, y_test, encoder\n",
    "\n",
    "def load_test():\n",
    "    print('Read test images')\n",
    "    path = os.path.join('..', 'data', 'test', '*.jpg')\n",
    "    files = glob.glob(path)\n",
    "    X_test = []\n",
    "    X_test_id = []\n",
    "    total = 0\n",
    "    thr = math.floor(len(files)/10)\n",
    "    for fl in files:\n",
    "        flbase = os.path.basename(fl)\n",
    "        img = cv2.imread(fl,0)\n",
    "        img = cv2.resize(img, (PIXELS, PIXELS))\n",
    "        #img = img.transpose(2, 0, 1)\n",
    "        img = np.reshape(img, (1, num_features))\n",
    "        X_test.append(img)\n",
    "        X_test_id.append(flbase)\n",
    "        total += 1\n",
    "        if total%thr == 0:\n",
    "            print('Read {} images from {}'.format(total, len(files)))\n",
    "\n",
    "    X_test = np.array(X_test)\n",
    "    X_test_id = np.array(X_test_id)\n",
    "\n",
    "    X_test = X_test.reshape(X_test.shape[0], 1, PIXELS, PIXELS).astype('float32') / 255.\n",
    "\n",
    "    return X_test, X_test_id"
   ]
  },
  {
   "cell_type": "code",
   "execution_count": null,
   "metadata": {
    "collapsed": true
   },
   "outputs": [],
   "source": []
  },
  {
   "cell_type": "markdown",
   "metadata": {},
   "source": [
    "# Mine again below"
   ]
  },
  {
   "cell_type": "code",
   "execution_count": 4,
   "metadata": {
    "collapsed": false
   },
   "outputs": [
    {
     "name": "stdout",
     "output_type": "stream",
     "text": [
      "Read train images\n",
      "Load folder c0\n",
      "Load folder c1\n",
      "Load folder c2\n",
      "Load folder c3\n",
      "Load folder c4\n",
      "Load folder c5\n",
      "Load folder c6\n",
      "Load folder c7\n",
      "Load folder c8\n",
      "Load folder c9\n",
      "('Train shape:', (20181L, 1L, 96L, 96L), 'Test shape:', (2243L, 1L, 96L, 96L))\n",
      "Read test images\n",
      "Read 7972 images from 79726\n",
      "Read 15944 images from 79726\n",
      "Read 23916 images from 79726\n",
      "Read 31888 images from 79726\n",
      "Read 39860 images from 79726\n",
      "Read 47832 images from 79726\n",
      "Read 55804 images from 79726\n",
      "Read 63776 images from 79726\n",
      "Read 71748 images from 79726\n",
      "Read 79720 images from 79726\n"
     ]
    }
   ],
   "source": [
    "'''\n",
    "load training data and start training\n",
    "'''\n",
    "encoder = LabelEncoder()\n",
    "\n",
    "# load the training and validation data sets\n",
    "train_X, train_y, valid_X, valid_y, encoder = load_train_cv(encoder)\n",
    "print('Train shape:', train_X.shape, 'Test shape:', valid_X.shape)\n",
    "\n",
    "# load data\n",
    "X_test, X_test_id = load_test()"
   ]
  },
  {
   "cell_type": "code",
   "execution_count": 16,
   "metadata": {
    "collapsed": false
   },
   "outputs": [
    {
     "name": "stdout",
     "output_type": "stream",
     "text": [
      "# Neural Network with 1001110 learnable parameters\n",
      "\n",
      "## Layer information\n",
      "\n",
      "  #  name      size\n",
      "---  ------  ------\n",
      "  0  input    10000\n",
      "  1  hidden     100\n",
      "  2  output      10\n",
      "\n",
      "  epoch    train loss    valid loss    train/val    valid acc  dur\n",
      "-------  ------------  ------------  -----------  -----------  -----\n",
      "      1       \u001b[36m1.89235\u001b[0m       \u001b[32m2.75393\u001b[0m      0.68714      0.21345  0.59s\n",
      "      2       \u001b[36m1.56816\u001b[0m       \u001b[32m1.78921\u001b[0m      0.87646      0.34882  0.42s\n",
      "      3       \u001b[36m1.27868\u001b[0m       2.07131      0.61733      0.22145  0.38s\n",
      "      4       2.02331       1.99329      1.01506      0.19425  0.38s\n",
      "      5       1.94250       2.01778      0.96269      0.17414  0.38s\n",
      "      6       1.89211       1.83251      1.03253      0.24875  0.38s\n",
      "      7       1.81311       \u001b[32m1.75440\u001b[0m      1.03347      0.29487  0.38s\n",
      "      8       1.81360       \u001b[32m1.73427\u001b[0m      1.04575      0.29028  0.40s\n",
      "      9       1.75211       \u001b[32m1.67909\u001b[0m      1.04349      0.30353  0.38s\n",
      "     10       1.70959       \u001b[32m1.65786\u001b[0m      1.03120      0.31181  0.38s\n",
      "     11       1.72505       \u001b[32m1.64449\u001b[0m      1.04899      0.31674  0.38s\n",
      "     12       1.66486       \u001b[32m1.64210\u001b[0m      1.01386      0.30863  0.40s\n",
      "     13       1.65199       \u001b[32m1.58979\u001b[0m      1.03913      0.33265  0.38s\n",
      "     14       1.74587       1.59103      1.09732      0.33960  0.42s\n",
      "     15       1.60022       1.62763      0.98316      0.31021  0.38s\n",
      "     16       1.59577       \u001b[32m1.55916\u001b[0m      1.02348      0.35167  0.40s\n",
      "     17       1.62066       \u001b[32m1.55698\u001b[0m      1.04090      0.34533  0.40s\n",
      "     18       1.57730       1.56340      1.00889      0.34075  0.40s\n",
      "     19       1.57802       1.58872      0.99327      0.31665  0.42s\n",
      "     20       1.54273       \u001b[32m1.52442\u001b[0m      1.01202      0.35782  0.40s\n",
      "     21       1.70124       \u001b[32m1.51669\u001b[0m      1.12167      0.36766  0.38s\n",
      "     22       1.51354       \u001b[32m1.49142\u001b[0m      1.01483      0.38022  0.38s\n",
      "     23       1.55931       1.51233      1.03107      0.36222  0.40s\n",
      "     24       1.48681       1.50424      0.98842      0.36575  0.38s\n",
      "     25       1.54310       1.49452      1.03251      0.37569  0.38s\n",
      "     26       1.49156       \u001b[32m1.46454\u001b[0m      1.01845      0.38670  0.40s\n",
      "     27       1.48746       1.47726      1.00691      0.38137  0.42s\n",
      "     28       1.49728       1.47596      1.01445      0.37753  0.38s\n",
      "     29       1.49022       \u001b[32m1.43344\u001b[0m      1.03961      0.41316  0.40s\n",
      "     30       1.51149       1.46752      1.02996      0.39078  0.38s\n",
      "     31       1.44468       1.44383      1.00059      0.40024  0.38s\n",
      "     32       1.43910       \u001b[32m1.39983\u001b[0m      1.02805      0.42732  0.38s\n",
      "     33       1.45285       1.41807      1.02453      0.42135  0.39s\n",
      "     34       1.42424       1.40837      1.01127      0.42323  0.38s\n",
      "     35       1.46513       \u001b[32m1.39874\u001b[0m      1.04746      0.42079  0.39s\n",
      "     36       1.39964       1.55134      0.90221      0.34209  0.38s\n",
      "     37       1.46856       1.46783      1.00050      0.37784  0.38s\n",
      "     38       1.42311       \u001b[32m1.39691\u001b[0m      1.01876      0.41702  0.40s\n",
      "     39       1.40773       \u001b[32m1.35646\u001b[0m      1.03780      0.43879  0.38s\n",
      "     40       1.44912       1.36381      1.06256      0.44099  0.39s\n",
      "     41       1.37971       1.42891      0.96557      0.39236  0.38s\n",
      "     42       1.40428       1.41852      0.98996      0.39742  0.38s\n",
      "     43       1.39401       1.37361      1.01485      0.42459  0.38s\n",
      "     44       1.39515       1.38200      1.00952      0.41879  0.39s\n",
      "     45       1.38470       1.38937      0.99664      0.41427  0.39s\n",
      "     46       1.35910       \u001b[32m1.34297\u001b[0m      1.01200      0.42075  0.38s\n",
      "     47       1.40580       \u001b[32m1.32156\u001b[0m      1.06374      0.45442  0.38s\n",
      "     48       1.38813       1.32237      1.04973      0.44698  0.38s\n",
      "     49       1.40437       1.32359      1.06104      0.44239  0.42s\n",
      "     50       1.35031       \u001b[32m1.31667\u001b[0m      1.02555      0.44738  0.40s\n",
      "     51       1.35758       1.32610      1.02374      0.42830  0.38s\n",
      "     52       1.33187       1.39227      0.95661      0.40743  0.41s\n",
      "     53       1.34911       \u001b[32m1.31428\u001b[0m      1.02650      0.44925  0.38s\n",
      "     54       1.34844       1.39365      0.96756      0.36222  0.40s\n",
      "     55       1.33426       \u001b[32m1.29763\u001b[0m      1.02823      0.45056  0.40s\n",
      "     56       1.33593       1.30111      1.02676      0.45491  0.39s\n",
      "     57       1.34296       \u001b[32m1.29077\u001b[0m      1.04043      0.45429  0.38s\n",
      "     58       1.35641       1.31117      1.03450      0.45002  0.38s\n",
      "     59       1.32049       1.30242      1.01387      0.43220  0.40s\n",
      "     60       1.32117       \u001b[32m1.28671\u001b[0m      1.02678      0.45668  0.40s\n",
      "     61       1.31738       1.28687      1.02371      0.45375  0.38s\n",
      "     62       1.36656       1.34184      1.01842      0.42878  0.40s\n",
      "     63       1.33110       1.30279      1.02173      0.42450  0.40s\n",
      "     64       1.30598       1.28724      1.01456      0.43964  0.38s\n",
      "     65       1.31610       \u001b[32m1.28335\u001b[0m      1.02552      0.45613  0.40s\n",
      "     66       1.29571       \u001b[32m1.27390\u001b[0m      1.01712      0.44556  0.39s\n",
      "     67       1.28433       1.29371      0.99274      0.45260  0.40s\n",
      "     68       1.29849       1.31777      0.98537      0.40688  0.38s\n",
      "     69       1.30774       \u001b[32m1.25970\u001b[0m      1.03814      0.46436  0.39s\n",
      "     70       1.31316       1.34370      0.97727      0.38124  0.38s\n",
      "     71       \u001b[36m1.25284\u001b[0m       1.34485      0.93159      0.38259  0.38s\n",
      "     72       1.32432       1.27234      1.04085      0.44812  0.38s\n",
      "     73       1.26783       1.27058      0.99784      0.44678  0.38s\n",
      "     74       1.26780       1.32223      0.95883      0.42776  0.37s\n",
      "     75       1.26929       1.28937      0.98443      0.42568  0.38s\n",
      "     76       1.32979       1.41136      0.94221      0.34087  0.39s\n",
      "     77       \u001b[36m1.24809\u001b[0m       1.34254      0.92965      0.41415  0.38s\n",
      "     78       1.26560       1.32462      0.95544      0.42257  0.40s\n",
      "     79       1.33756       \u001b[32m1.25832\u001b[0m      1.06297      0.45153  0.38s\n",
      "     80       1.24879       1.56806      0.79639      0.26356  0.39s\n",
      "     81       1.27272       \u001b[32m1.24913\u001b[0m      1.01889      0.45435  0.38s\n",
      "     82       1.27608       1.25303      1.01840      0.46876  0.38s\n",
      "     83       \u001b[36m1.24075\u001b[0m       1.33924      0.92646      0.38663  0.39s\n",
      "     84       1.26347       1.29639      0.97461      0.41316  0.38s\n",
      "     85       \u001b[36m1.21799\u001b[0m       1.31180      0.92848      0.39882  0.37s\n",
      "     86       1.26467       1.31921      0.95865      0.42880  0.38s\n",
      "     87       1.23299       1.49518      0.82464      0.29772  0.38s\n",
      "     88       1.27152       \u001b[32m1.24242\u001b[0m      1.02342      0.46723  0.38s\n",
      "     89       1.22757       1.29187      0.95022      0.41187  0.38s\n",
      "     90       1.26121       1.33345      0.94583      0.38029  0.38s\n",
      "     91       \u001b[36m1.21384\u001b[0m       1.33537      0.90899      0.41939  0.37s\n",
      "     92       1.22627       \u001b[32m1.22778\u001b[0m      0.99877      0.47621  0.38s\n",
      "     93       1.29027       1.22903      1.04983      0.46931  0.40s\n",
      "     94       1.28268       1.23870      1.03551      0.45533  0.38s\n",
      "     95       \u001b[36m1.21029\u001b[0m       \u001b[32m1.22763\u001b[0m      0.98588      0.47896  0.39s\n",
      "     96       1.22264       1.42130      0.86023      0.33445  0.38s\n",
      "     97       1.21942       1.48460      0.82138      0.30762  0.38s\n",
      "     98       \u001b[36m1.20384\u001b[0m       1.23547      0.97439      0.45606  0.38s\n",
      "     99       1.21452       1.22880      0.98838      0.47439  0.37s\n",
      "    100       1.28681       \u001b[32m1.22715\u001b[0m      1.04862      0.46749  0.38s\n",
      "    101       \u001b[36m1.18810\u001b[0m       1.33994      0.88668      0.37509  0.38s\n",
      "    102       1.20365       1.29982      0.92601      0.40377  0.39s\n",
      "    103       \u001b[36m1.17625\u001b[0m       1.24501      0.94477      0.44210  0.38s\n",
      "    104       1.20779       1.33052      0.90776      0.42197  0.38s\n",
      "    105       1.24838       1.28472      0.97172      0.43788  0.38s\n",
      "    106       1.19871       1.22784      0.97628      0.44616  0.37s\n",
      "    107       1.17740       1.30883      0.89959      0.39747  0.38s\n",
      "    108       1.23343       1.29144      0.95508      0.40592  0.39s\n",
      "    109       1.18662       1.42516      0.83262      0.32928  0.38s\n",
      "    110       1.24920       \u001b[32m1.20240\u001b[0m      1.03892      0.48414  0.40s\n",
      "    111       \u001b[36m1.15002\u001b[0m       1.35476      0.84887      0.37088  0.38s\n",
      "    112       1.29617       1.21234      1.06915      0.47921  0.38s\n",
      "    113       1.16529       1.24462      0.93626      0.43928  0.38s\n",
      "    114       1.29209       1.22821      1.05201      0.46980  0.38s\n",
      "    115       \u001b[36m1.14219\u001b[0m       1.27246      0.89762      0.41877  0.38s\n",
      "    116       1.20702       1.20499      1.00168      0.48165  0.40s\n",
      "    117       1.16593       1.35595      0.85986      0.36874  0.38s\n",
      "    118       1.20927       1.21488      0.99538      0.46205  0.40s\n",
      "    119       1.21688       \u001b[32m1.19107\u001b[0m      1.02166      0.48542  0.38s\n",
      "    120       1.17703       1.20780      0.97452      0.48134  0.38s\n",
      "    121       1.15396       \u001b[32m1.19089\u001b[0m      0.96899      0.48909  0.40s\n",
      "    122       1.20320       1.21574      0.98968      0.46614  0.39s\n",
      "    123       1.17640       1.19247      0.98652      0.49135  0.39s\n",
      "    124       1.17718       1.30381      0.90288      0.39511  0.39s\n",
      "    125       1.15135       1.32991      0.86573      0.38315  0.40s\n",
      "    126       1.23616       \u001b[32m1.18638\u001b[0m      1.04195      0.48982  0.40s\n",
      "    127       1.14757       1.20362      0.95343      0.48123  0.38s\n",
      "    128       1.18072       1.19906      0.98470      0.49436  0.39s\n",
      "    129       1.17957       1.23852      0.95240      0.46578  0.38s\n",
      "    130       1.17394       1.20256      0.97620      0.46902  0.39s\n",
      "    131       \u001b[36m1.12310\u001b[0m       1.23385      0.91024      0.43910  0.38s\n",
      "    132       1.20893       1.20283      1.00507      0.46334  0.38s\n",
      "    133       1.17376       1.25034      0.93876      0.43209  0.40s\n",
      "    134       1.15789       1.23219      0.93970      0.43569  0.39s\n",
      "    135       1.16689       \u001b[32m1.17784\u001b[0m      0.99070      0.49881  0.38s\n",
      "    136       1.16067       1.22433      0.94801      0.44514  0.39s\n",
      "    137       1.16506       1.28706      0.90521      0.40230  0.39s\n",
      "    138       \u001b[36m1.10757\u001b[0m       \u001b[32m1.17758\u001b[0m      0.94055      0.49033  0.40s\n",
      "    139       1.18028       1.22137      0.96636      0.44825  0.39s\n",
      "    140       1.20471       \u001b[32m1.17414\u001b[0m      1.02604      0.49770  0.37s\n",
      "    141       1.11817       1.19567      0.93518      0.46700  0.40s\n",
      "    142       1.20983       1.19622      1.01138      0.47242  0.40s\n",
      "    143       \u001b[36m1.10082\u001b[0m       \u001b[32m1.16936\u001b[0m      0.94138      0.49765  0.39s\n",
      "    144       1.13749       1.18086      0.96327      0.50107  0.39s\n",
      "    145       1.19146       1.17961      1.01005      0.49825  0.38s\n",
      "    146       1.10741       1.16981      0.94667      0.49539  0.40s\n",
      "    147       1.23012       1.20318      1.02239      0.46108  0.38s\n",
      "    148       \u001b[36m1.10001\u001b[0m       1.24570      0.88305      0.43282  0.38s\n",
      "    149       1.11661       1.25463      0.88999      0.42348  0.40s\n",
      "    150       1.17490       1.89435      0.62021      0.20349  0.40s\n",
      "    151       1.22779       1.18451      1.03654      0.48201  0.38s\n",
      "    152       1.19794       1.17843      1.01656      0.48396  0.40s\n",
      "    153       1.10413       1.29995      0.84936      0.39884  0.40s\n",
      "    154       1.11408       1.17068      0.95166      0.49874  0.38s\n",
      "    155       1.13838       1.58736      0.71715      0.28151  0.38s\n",
      "    156       1.16054       1.18047      0.98312      0.48007  0.39s\n",
      "    157       \u001b[36m1.09354\u001b[0m       1.17008      0.93459      0.49776  0.40s\n",
      "    158       1.12013       1.17320      0.95476      0.48671  0.40s\n",
      "    159       1.13809       1.27802      0.89051      0.43870  0.40s\n",
      "    160       1.13855       \u001b[32m1.16543\u001b[0m      0.97694      0.49710  0.40s\n",
      "    161       \u001b[36m1.09153\u001b[0m       \u001b[32m1.16189\u001b[0m      0.93945      0.50546  0.38s\n",
      "    162       1.12780       1.16969      0.96419      0.48904  0.38s\n",
      "    163       1.11215       1.17553      0.94608      0.50258  0.38s\n",
      "    164       \u001b[36m1.08625\u001b[0m       1.31745      0.82451      0.39147  0.38s\n",
      "    165       1.19396       1.40226      0.85146      0.34515  0.38s\n",
      "    166       1.15635       1.20117      0.96268      0.46121  0.38s\n",
      "    167       1.11905       1.28538      0.87060      0.40013  0.38s\n",
      "    168       \u001b[36m1.06213\u001b[0m       1.17285      0.90560      0.49619  0.38s\n",
      "    169       1.19296       1.18141      1.00978      0.49303  0.38s\n",
      "    170       1.11595       \u001b[32m1.15957\u001b[0m      0.96238      0.50113  0.38s\n",
      "    171       1.07157       1.26355      0.84806      0.45280  0.38s\n",
      "    172       1.14547       \u001b[32m1.15700\u001b[0m      0.99004      0.49814  0.39s\n",
      "    173       1.09043       1.22410      0.89080      0.44241  0.37s\n",
      "    174       1.12026       \u001b[32m1.15063\u001b[0m      0.97360      0.50668  0.38s\n",
      "    175       1.11860       1.19492      0.93613      0.49070  0.40s\n",
      "    176       1.11607       1.18448      0.94224      0.49448  0.38s\n",
      "    177       \u001b[36m1.06083\u001b[0m       1.15404      0.91923      0.49374  0.38s\n",
      "    178       1.10545       1.25131      0.88343      0.42552  0.39s\n",
      "    179       1.20810       \u001b[32m1.14645\u001b[0m      1.05377      0.50089  0.38s\n",
      "    180       1.07577       1.14933      0.93599      0.49692  0.39s\n",
      "    181       1.14180       1.15950      0.98473      0.50779  0.39s\n",
      "    182       \u001b[36m1.05702\u001b[0m       1.17092      0.90273      0.48160  0.38s\n",
      "    183       1.12451       1.23175      0.91293      0.47452  0.40s\n",
      "    184       1.17186       1.15642      1.01335      0.50620  0.38s\n",
      "    185       1.06262       1.16084      0.91539      0.50284  0.40s\n",
      "    186       1.06317       1.17840      0.90221      0.47135  0.38s\n",
      "    187       1.14806       1.15471      0.99424      0.51170  0.40s\n",
      "    188       1.11344       \u001b[32m1.14630\u001b[0m      0.97133      0.50400  0.38s\n",
      "    189       1.06537       1.18316      0.90045      0.46556  0.40s\n",
      "    190       1.12711       \u001b[32m1.14353\u001b[0m      0.98564      0.50309  0.40s\n",
      "    191       1.13575       1.53314      0.74080      0.29470  0.40s\n",
      "    192       1.07944       1.17126      0.92160      0.50524  0.40s\n",
      "    193       1.11434       1.14358      0.97443      0.51237  0.40s\n",
      "    194       \u001b[36m1.04361\u001b[0m       1.15026      0.90729      0.50051  0.40s\n",
      "    195       1.13609       1.15296      0.98536      0.50078  0.37s\n",
      "    196       1.07691       1.15121      0.93546      0.51585  0.38s\n",
      "    197       1.06180       1.15586      0.91863      0.48917  0.38s\n",
      "    198       1.17043       \u001b[32m1.13649\u001b[0m      1.02986      0.51376  0.38s\n",
      "    199       1.06653       1.16180      0.91799      0.47996  0.38s\n",
      "    200       1.09566       1.14145      0.95989      0.51163  0.40s\n"
     ]
    },
    {
     "data": {
      "text/plain": [
       "NeuralNet(X_tensor_type=None,\n",
       "     batch_iterator_test=<nolearn.lasagne.base.BatchIterator object at 0x0000000008652048>,\n",
       "     batch_iterator_train=<nolearn.lasagne.base.BatchIterator object at 0x00000000085F8EB8>,\n",
       "     check_input=True, custom_scores=None, hidden_num_units=100,\n",
       "     input_shape=(None, 10000),\n",
       "     layers=[('input', <class 'lasagne.layers.input.InputLayer'>), ('hidden', <class 'lasagne.layers.dense.DenseLayer'>), ('output', <class 'lasagne.layers.dense.DenseLayer'>)],\n",
       "     loss=None, max_epochs=200, more_params={},\n",
       "     objective=<function objective at 0x00000000086503C8>,\n",
       "     objective_loss_function=<function categorical_crossentropy at 0x00000000083E2CF8>,\n",
       "     on_batch_finished=[],\n",
       "     on_epoch_finished=[<nolearn.lasagne.handlers.PrintLog instance at 0x000000005A4D4308>],\n",
       "     on_training_finished=[],\n",
       "     on_training_started=[<nolearn.lasagne.handlers.PrintLayerInfo instance at 0x0000000060796E88>],\n",
       "     output_nonlinearity=<function softmax at 0x000000000836F6D8>,\n",
       "     output_num_units=10, regression=False,\n",
       "     train_split=<nolearn.lasagne.base.TrainSplit object at 0x00000000086520B8>,\n",
       "     update=<function nesterov_momentum at 0x00000000083E45F8>,\n",
       "     update_learning_rate=0.01, update_momentum=0.9,\n",
       "     use_label_encoder=False, verbose=1,\n",
       "     y_tensor_type=TensorType(int32, vector))"
      ]
     },
     "execution_count": 16,
     "metadata": {},
     "output_type": "execute_result"
    }
   ],
   "source": [
    "# Simple network without convolution\n",
    "net1 = NeuralNet(\n",
    "    layers=[  # three layers: one hidden layer\n",
    "        ('input', layers.InputLayer),\n",
    "        ('hidden', layers.DenseLayer),\n",
    "        ('output', layers.DenseLayer),\n",
    "        ],\n",
    "    # layer parameters:\n",
    "    input_shape=(None, 10000),  # 100x100 input pixels per batch\n",
    "    hidden_num_units=100,  # number of units in hidden layer\n",
    "    output_nonlinearity=softmax,  # output layer uses identity function\n",
    "    output_num_units=10,  # 10 target values\n",
    "\n",
    "    objective_loss_function=categorical_crossentropy,\n",
    "    \n",
    "    # optimization method:\n",
    "    update=nesterov_momentum,\n",
    "    update_learning_rate=0.01,\n",
    "    update_momentum=0.9,\n",
    "    \n",
    "    regression=False,  # flag to indicate we're dealing with regression problem\n",
    "    max_epochs=200,  # we want to train this many epochs\n",
    "    verbose=1,\n",
    "    )\n",
    "\n",
    "\n",
    "net1.fit(train_X, train_y)\n",
    "\n",
    "with open('net1.pickle', 'wb') as f:\n",
    "    pickle.dump(net1, f, -1)"
   ]
  },
  {
   "cell_type": "code",
   "execution_count": 23,
   "metadata": {
    "collapsed": false
   },
   "outputs": [
    {
     "data": {
      "image/png": "[encoded data removed]",
      "text/plain": [
       "<matplotlib.figure.Figure at 0x516fbfd0>"
      ]
     },
     "metadata": {},
     "output_type": "display_data"
    }
   ],
   "source": [
    "# Graph of train vs validation over time\n",
    "train_loss = np.array([i[\"train_loss\"] for i in net1.train_history_])\n",
    "valid_loss = np.array([i[\"valid_loss\"] for i in net1.train_history_])\n",
    "plt.plot(train_loss, linewidth=3, label=\"train\")\n",
    "plt.plot(valid_loss, linewidth=3, label=\"valid\")\n",
    "plt.grid()\n",
    "plt.legend()\n",
    "plt.xlabel(\"epoch\")\n",
    "plt.ylabel(\"loss\")\n",
    "plt.ylim(1e-4, 1e-0)\n",
    "plt.yscale(\"log\")\n",
    "plt.show()"
   ]
  },
  {
   "cell_type": "code",
   "execution_count": 18,
   "metadata": {
    "collapsed": false
   },
   "outputs": [
    {
     "data": {
      "image/png": "[encoded data removed]",
      "text/plain": [
       "<matplotlib.figure.Figure at 0x81383eb8>"
      ]
     },
     "metadata": {},
     "output_type": "display_data"
    }
   ],
   "source": [
    "# Graph of train vs validation over time\n",
    "train_loss = np.array([i[\"train_loss\"] for i in net1.train_history_])\n",
    "valid_loss = np.array([i[\"valid_loss\"] for i in net1.train_history_])\n",
    "plt.plot(train_loss, linewidth=3, label=\"train\")\n",
    "plt.plot(valid_loss, linewidth=3, label=\"valid\")\n",
    "plt.grid()\n",
    "plt.legend()\n",
    "plt.xlabel(\"epoch\")\n",
    "plt.ylabel(\"loss\")\n",
    "plt.ylim(1e-0, 1e+1)\n",
    "plt.yscale(\"log\")\n",
    "plt.show()"
   ]
  },
  {
   "cell_type": "code",
   "execution_count": 22,
   "metadata": {
    "collapsed": false
   },
   "outputs": [],
   "source": [
    "'''\n",
    "Make Submission\n",
    "'''\n",
    "predictions = net1.predict_proba(X_test)\n",
    "print('Creating Submission')\n",
    "def create_submission(predictions, test_id):\n",
    "    result1 = pd.DataFrame(predictions, columns=['c0', 'c1', 'c2', 'c3', 'c4', 'c5', 'c6', 'c7', 'c8', 'c9'])\n",
    "    result1.loc[:, 'img'] = pd.Series(test_id, index=result1.index)\n",
    "    result1.to_csv('submission_distract.csv', index=False)\n",
    "\n",
    "create_submission(predictions, X_test_id)"
   ]
  },
  {
   "cell_type": "code",
   "execution_count": 20,
   "metadata": {
    "collapsed": false
   },
   "outputs": [
    {
     "name": "stderr",
     "output_type": "stream",
     "text": [
      "C:\\Anaconda\\lib\\site-packages\\ipykernel\\__main__.py:1: DeprecationWarning: openFile() is pending deprecation, use open_file() instead. You may use the pt2to3 tool to update your source code.\n",
      "  if __name__ == '__main__':\n",
      "C:\\Anaconda\\lib\\site-packages\\ipykernel\\__main__.py:3: DeprecationWarning: createArray() is pending deprecation, use create_array() instead. You may use the pt2to3 tool to update your source code.\n",
      "  app.launch_new_instance()\n",
      "C:\\Anaconda\\lib\\site-packages\\ipykernel\\__main__.py:4: DeprecationWarning: openFile() is pending deprecation, use open_file() instead. You may use the pt2to3 tool to update your source code.\n",
      "C:\\Anaconda\\lib\\site-packages\\ipykernel\\__main__.py:6: DeprecationWarning: createArray() is pending deprecation, use create_array() instead. You may use the pt2to3 tool to update your source code.\n",
      "C:\\Anaconda\\lib\\site-packages\\ipykernel\\__main__.py:7: DeprecationWarning: openFile() is pending deprecation, use open_file() instead. You may use the pt2to3 tool to update your source code.\n",
      "C:\\Anaconda\\lib\\site-packages\\ipykernel\\__main__.py:9: DeprecationWarning: createArray() is pending deprecation, use create_array() instead. You may use the pt2to3 tool to update your source code.\n",
      "C:\\Anaconda\\lib\\site-packages\\ipykernel\\__main__.py:10: DeprecationWarning: openFile() is pending deprecation, use open_file() instead. You may use the pt2to3 tool to update your source code.\n",
      "C:\\Anaconda\\lib\\site-packages\\ipykernel\\__main__.py:12: DeprecationWarning: createArray() is pending deprecation, use create_array() instead. You may use the pt2to3 tool to update your source code.\n",
      "C:\\Anaconda\\lib\\site-packages\\ipykernel\\__main__.py:16: DeprecationWarning: openFile() is pending deprecation, use open_file() instead. You may use the pt2to3 tool to update your source code.\n",
      "C:\\Anaconda\\lib\\site-packages\\ipykernel\\__main__.py:18: DeprecationWarning: createArray() is pending deprecation, use create_array() instead. You may use the pt2to3 tool to update your source code.\n",
      "C:\\Anaconda\\lib\\site-packages\\ipykernel\\__main__.py:19: DeprecationWarning: openFile() is pending deprecation, use open_file() instead. You may use the pt2to3 tool to update your source code.\n",
      "C:\\Anaconda\\lib\\site-packages\\ipykernel\\__main__.py:21: DeprecationWarning: createArray() is pending deprecation, use create_array() instead. You may use the pt2to3 tool to update your source code.\n"
     ]
    }
   ],
   "source": [
    "# Save loaded numpy arrays to HDF5 filesusing pytables\n",
    "with tables.openFile('train_X.h5', mode='w', title=\"train_X Array\") as h5file0:\n",
    "    root0 = h5file0.root\n",
    "    h5file0.createArray(root0, \"train_X\", train_X)\n",
    "with tables.openFile('train_y.h5', mode='w', title=\"train_y Array\") as h5file1:\n",
    "    root1 = h5file1.root\n",
    "    h5file1.createArray(root1, \"train_y\", train_y)\n",
    "with tables.openFile('valid_X.h5', mode='w', title=\"valid_X Array\") as h5file2:\n",
    "    root2 = h5file2.root\n",
    "    h5file2.createArray(root2, \"valid_X\", valid_X)\n",
    "with tables.openFile('valid_y.h5', mode='w', title=\"valid_y Array\") as h5file3:\n",
    "    root3 = h5file3.root\n",
    "    h5file3.createArray(root3, \"valid_y\", valid_y)\n",
    "#with tables.openFile('encoder.h5', mode='w', title=\"encoder Array\") as h5file4:\n",
    "#    root4 = h5file4.root\n",
    "#    h5file4.createArray(root4, \"encoder\", encoder)\n",
    "with tables.openFile('X_test.h5', mode='w', title=\"X_test Array\") as h5file5:\n",
    "    root5 = h5file5.root\n",
    "    h5file5.createArray(root5, \"X_test\", X_test)\n",
    "with tables.openFile('X_test_id.h5', mode='w', title=\"X_test_id Array\") as h5file6:\n",
    "    root6 = h5file6.root\n",
    "    h5file6.createArray(root6, \"X_test_id\", X_test_id)"
   ]
  },
  {
   "cell_type": "code",
   "execution_count": 13,
   "metadata": {
    "collapsed": false
   },
   "outputs": [],
   "source": [
    "# Load numpy arrays from HDF5 file using pytables\n",
    "with tables.open_file(\"train_X.h5\", \"r\") as f0:\n",
    "    # retrieve an entire numpy array\n",
    "    train_X = f0.root.train_X[:]  # [:] gets all elements\n",
    "with tables.open_file(\"train_y.h5\", \"r\") as f1:\n",
    "    # retrieve an entire numpy array\n",
    "    train_y = f1.root.train_y[:]  # [:] gets all elements\n",
    "with tables.open_file(\"valid_X.h5\", \"r\") as f2:\n",
    "    # retrieve an entire numpy array\n",
    "    valid_X = f2.root.valid_X[:]  # [:] gets all elements\n",
    "with tables.open_file(\"valid_y.h5\", \"r\") as f3:\n",
    "    # retrieve an entire numpy array\n",
    "    valid_y = f3.root.valid_y[:]  # [:] gets all elements\n",
    "with tables.open_file(\"X_test.h5\", \"r\") as f4:\n",
    "    # retrieve an entire numpy array\n",
    "    X_test = f4.root.X_test[:]  # [:] gets all elements\n",
    "with tables.open_file(\"X_test_id.h5\", \"r\") as f5:\n",
    "    # retrieve an entire numpy array\n",
    "    X_test_id = f5.root.X_test_id[:]  # [:] gets all elements"
   ]
  },
  {
   "cell_type": "code",
   "execution_count": 18,
   "metadata": {
    "collapsed": false
   },
   "outputs": [
    {
     "name": "stdout",
     "output_type": "stream",
     "text": [
      "# Neural Network with 8041482 learnable parameters\n",
      "\n",
      "## Layer information\n",
      "\n",
      "  #  name     size\n",
      "---  -------  ---------\n",
      "  0  input    1x96x96\n",
      "  1  conv1    32x94x94\n",
      "  2  pool1    32x47x47\n",
      "  3  conv2    64x46x46\n",
      "  4  pool2    64x23x23\n",
      "  5  conv3    128x22x22\n",
      "  6  pool3    128x11x11\n",
      "  7  hidden4  500\n",
      "  8  hidden5  500\n",
      "  9  output   10\n",
      "\n",
      "  epoch    train loss    valid loss    train/val    valid acc  dur\n",
      "-------  ------------  ------------  -----------  -----------  ------\n",
      "      1       \u001b[36m2.11062\u001b[0m       \u001b[32m1.67650\u001b[0m      1.25894      0.39632  16.01s\n",
      "      2       \u001b[36m1.30230\u001b[0m       \u001b[32m0.80738\u001b[0m      1.61300      0.73850  12.57s\n",
      "      3       \u001b[36m0.30391\u001b[0m       \u001b[32m0.20841\u001b[0m      1.45823      0.93655  12.56s\n",
      "      4       \u001b[36m0.10136\u001b[0m       \u001b[32m0.20433\u001b[0m      0.49606      0.93297  12.60s\n",
      "      5       \u001b[36m0.05130\u001b[0m       \u001b[32m0.12875\u001b[0m      0.39846      0.96134  12.59s\n",
      "      6       \u001b[36m0.03172\u001b[0m       \u001b[32m0.11691\u001b[0m      0.27134      0.96495  12.58s\n",
      "      7       \u001b[36m0.01938\u001b[0m       \u001b[32m0.10033\u001b[0m      0.19320      0.97032  12.55s\n",
      "      8       \u001b[36m0.01482\u001b[0m       \u001b[32m0.05490\u001b[0m      0.26991      0.98692  12.58s\n",
      "      9       \u001b[36m0.00855\u001b[0m       0.11033      0.07747      0.97013  12.57s\n",
      "     10       0.00961       0.05585      0.17206      0.98614  12.58s\n",
      "     11       0.01116       0.34055      0.03278      0.93292  12.58s\n",
      "     12       0.01498       0.06003      0.24958      0.98663  12.58s\n",
      "     13       \u001b[36m0.00497\u001b[0m       \u001b[32m0.04664\u001b[0m      0.10656      0.98882  12.58s\n",
      "     14       \u001b[36m0.00308\u001b[0m       0.04760      0.06470      0.98858  12.58s\n",
      "     15       \u001b[36m0.00207\u001b[0m       \u001b[32m0.03897\u001b[0m      0.05322      0.99151  12.58s\n",
      "     16       \u001b[36m0.00114\u001b[0m       0.03998      0.02856      0.99200  12.59s\n",
      "     17       \u001b[36m0.00035\u001b[0m       0.03939      0.00892      0.99224  12.57s\n",
      "     18       \u001b[36m0.00017\u001b[0m       0.03945      0.00427      0.99224  12.60s\n",
      "     19       \u001b[36m0.00013\u001b[0m       0.03938      0.00321      0.99224  12.62s\n",
      "     20       \u001b[36m0.00010\u001b[0m       0.03952      0.00241      0.99200  12.64s\n",
      "     21       \u001b[36m0.00008\u001b[0m       0.03961      0.00201      0.99224  12.61s\n",
      "     22       \u001b[36m0.00007\u001b[0m       0.03976      0.00166      0.99224  12.67s\n",
      "     23       \u001b[36m0.00006\u001b[0m       0.03992      0.00151      0.99224  12.64s\n",
      "     24       \u001b[36m0.00006\u001b[0m       0.04004      0.00139      0.99224  12.62s\n",
      "     25       \u001b[36m0.00005\u001b[0m       0.04016      0.00130      0.99200  12.60s\n"
     ]
    }
   ],
   "source": [
    "# Convoluted Neural Network\n",
    "# Valid ACC @ 25 epoch = 0.99200\n",
    "net2 = NeuralNet(\n",
    "    layers=[\n",
    "        ('input', layers.InputLayer),\n",
    "        ('conv1', layers.Conv2DLayer),\n",
    "        ('pool1', layers.MaxPool2DLayer),\n",
    "        ('conv2', layers.Conv2DLayer),\n",
    "        ('pool2', layers.MaxPool2DLayer),\n",
    "        ('conv3', layers.Conv2DLayer),\n",
    "        ('pool3', layers.MaxPool2DLayer),\n",
    "        ('hidden4', layers.DenseLayer),\n",
    "        ('hidden5', layers.DenseLayer),\n",
    "        ('output', layers.DenseLayer),\n",
    "        ],\n",
    "    input_shape=(None, 1, 96, 96),\n",
    "    conv1_num_filters=32, conv1_filter_size=(3, 3), pool1_pool_size=(2, 2),\n",
    "    conv2_num_filters=64, conv2_filter_size=(2, 2), pool2_pool_size=(2, 2),\n",
    "    conv3_num_filters=128, conv3_filter_size=(2, 2), pool3_pool_size=(2, 2),\n",
    "    hidden4_num_units=500, hidden5_num_units=500,\n",
    "    output_num_units=10, output_nonlinearity=softmax,\n",
    "    \n",
    "    objective_loss_function=categorical_crossentropy,\n",
    "\n",
    "    update_learning_rate=0.01,\n",
    "    update_momentum=0.9,\n",
    "\n",
    "    regression=False,\n",
    "    max_epochs=25,\n",
    "    verbose=1,\n",
    "    )\n",
    "\n",
    "\n",
    "net2.fit(train_X, train_y)\n",
    "\n",
    "# Training for 1000 epochs will take a while.  We'll pickle the\n",
    "# trained model so that we can load it back later:\n",
    "with open('net2.pickle', 'wb') as f2:\n",
    "    pickle.dump(net2, f2, -1)"
   ]
  },
  {
   "cell_type": "code",
   "execution_count": 21,
   "metadata": {
    "collapsed": false
   },
   "outputs": [
    {
     "data": {
      "image/png": "[encoded data removed]",
      "text/plain": [
       "<matplotlib.figure.Figure at 0x7bf7f198>"
      ]
     },
     "metadata": {},
     "output_type": "display_data"
    }
   ],
   "source": [
    "# Graph net2 of train vs validation over time\n",
    "train_loss = np.array([i[\"train_loss\"] for i in net2.train_history_])\n",
    "valid_loss = np.array([i[\"valid_loss\"] for i in net2.train_history_])\n",
    "plt.plot(train_loss, linewidth=3, label=\"train\")\n",
    "plt.plot(valid_loss, linewidth=3, label=\"valid\")\n",
    "plt.grid()\n",
    "plt.legend()\n",
    "plt.xlabel(\"epoch\")\n",
    "plt.ylabel(\"loss\")\n",
    "plt.ylim(1e-5, 1e+1)\n",
    "plt.yscale(\"log\")\n",
    "plt.show()"
   ]
  },
  {
   "cell_type": "code",
   "execution_count": 23,
   "metadata": {
    "collapsed": false
   },
   "outputs": [
    {
     "name": "stdout",
     "output_type": "stream",
     "text": [
      "Creating Submission\n"
     ]
    }
   ],
   "source": [
    "# Create submission for net2\n",
    "predictions2 = net2.predict_proba(X_test)\n",
    "print('Creating Submission')\n",
    "create_submission(predictions2, X_test_id)"
   ]
  },
  {
   "cell_type": "markdown",
   "metadata": {
    "collapsed": true
   },
   "source": [
    "# WORKS UP TO HERE"
   ]
  },
  {
   "cell_type": "markdown",
   "metadata": {
    "collapsed": true
   },
   "source": [
    "# !!!!!!!!!!!!!!!!!!!!"
   ]
  },
  {
   "cell_type": "code",
   "execution_count": 23,
   "metadata": {
    "collapsed": true
   },
   "outputs": [],
   "source": [
    "def float32(k):\n",
    "    return np.cast['float32'](k)"
   ]
  },
  {
   "cell_type": "code",
   "execution_count": null,
   "metadata": {
    "collapsed": true
   },
   "outputs": [],
   "source": []
  }
 ],
 "metadata": {
  "kernelspec": {
   "display_name": "Python 2",
   "language": "python",
   "name": "python2"
  },
  "language_info": {
   "codemirror_mode": {
    "name": "ipython",
    "version": 2
   },
   "file_extension": ".py",
   "mimetype": "text/x-python",
   "name": "python",
   "nbconvert_exporter": "python",
   "pygments_lexer": "ipython2",
   "version": "2.7.11"
  }
 },
 "nbformat": 4,
 "nbformat_minor": 0
}
